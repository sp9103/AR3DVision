{
 "cells": [
  {
   "cell_type": "code",
   "execution_count": 1,
   "metadata": {},
   "outputs": [],
   "source": [
    "import tensorflow as tf"
   ]
  },
  {
   "cell_type": "code",
   "execution_count": 2,
   "metadata": {},
   "outputs": [
    {
     "name": "stderr",
     "output_type": "stream",
     "text": [
      "WARNING:root:TensorFlow version 1.15.0 detected. Last version known to be fully compatible is 1.14.0 .\n"
     ]
    }
   ],
   "source": [
    "from tensorflow.python.tools.freeze_graph import freeze_graph\n",
    "import tfcoreml\n",
    "import coremltools"
   ]
  },
  {
   "cell_type": "code",
   "execution_count": 3,
   "metadata": {},
   "outputs": [
    {
     "name": "stdout",
     "output_type": "stream",
     "text": [
      "AR3DVision.ipynb               frozen_model.pb\r\n",
      "AR3DVision.mlmodel             \u001b[34mmobilenet_v2_1.0_224\u001b[m\u001b[m\r\n",
      "AR3DVision_SURF.mlmodel        \u001b[34mmobilenet_v2_6DOF\u001b[m\u001b[m\r\n",
      "\u001b[34mARVision Data\u001b[m\u001b[m                  model.ckpt.data-00000-of-00001\r\n",
      "CoreMLConverter.ipynb          model.ckpt.index\r\n",
      "\u001b[34m__pycache__\u001b[m\u001b[m                    model.ckpt.meta\r\n",
      "checkpoint                     model.pbtxt\r\n",
      "\u001b[34mcheckpoints\u001b[m\u001b[m                    \u001b[34mnets\u001b[m\u001b[m\r\n",
      "dataset_factory.py\r\n"
     ]
    }
   ],
   "source": [
    "!ls"
   ]
  },
  {
   "cell_type": "code",
   "execution_count": 8,
   "metadata": {},
   "outputs": [
    {
     "name": "stdout",
     "output_type": "stream",
     "text": [
      "0 assert nodes deleted\n",
      "10 nodes deleted\n",
      "0 nodes deleted\n",
      "0 nodes deleted\n",
      "[Op Fusion] fuse_bias_add() deleted 10 nodes.\n",
      "2 identity nodes deleted\n",
      "5 disconnected nodes deleted\n",
      "[SSAConverter] Converting function main ...\n",
      "[SSAConverter] [1/10] Converting op type: 'Placeholder', name: 'Placeholder', output_shape: (1, 14).\n",
      "[SSAConverter] [2/10] Converting op type: 'MatMul', name: 'fully_connected/MatMul', output_shape: (1, 64).\n",
      "[SSAConverter] [3/10] Converting op type: 'Relu', name: 'fully_connected/Relu', output_shape: (1, 64).\n",
      "[SSAConverter] [4/10] Converting op type: 'MatMul', name: 'fully_connected_1/MatMul', output_shape: (1, 64).\n",
      "[SSAConverter] [5/10] Converting op type: 'Relu', name: 'fully_connected_1/Relu', output_shape: (1, 64).\n",
      "[SSAConverter] [6/10] Converting op type: 'MatMul', name: 'fully_connected_2/MatMul', output_shape: (1, 64).\n",
      "[SSAConverter] [7/10] Converting op type: 'Relu', name: 'fully_connected_2/Relu', output_shape: (1, 64).\n",
      "[SSAConverter] [8/10] Converting op type: 'MatMul', name: 'fully_connected_3/MatMul', output_shape: (1, 32).\n",
      "[SSAConverter] [9/10] Converting op type: 'Relu', name: 'fully_connected_3/Relu', output_shape: (1, 32).\n",
      "[SSAConverter] [10/10] Converting op type: 'MatMul', name: 'fully_connected_4/BiasAdd', output_shape: (1, 6).\n"
     ]
    }
   ],
   "source": [
    "\"\"\"\n",
    "Step 2: Call converter\n",
    "\"\"\"\n",
    "\n",
    "# Provide these inputs in addition to inputs in Step 1\n",
    "# A dictionary of input tensors' name and shape (with batch)\n",
    "frozen_model_file = './frozen_model.pb'\n",
    "IMAGE_INPUT_NAME = [\"Placeholder\"]\n",
    "input_tensor_shapes = {\"Placeholder\":[1,14]} # batch size is 1\n",
    "# Output CoreML model path\n",
    "coreml_model_file = './AR3DVision_SURF.mlmodel'\n",
    "output_tensor_names = ['fully_connected_4/BiasAdd']\n",
    "\n",
    "# Call the converter\n",
    "coreml_model = tfcoreml.convert(\n",
    "    tf_model_path=frozen_model_file, \n",
    "    mlmodel_path=coreml_model_file, \n",
    "    input_name_shape_dict=input_tensor_shapes,\n",
    "    output_feature_names=output_tensor_names,\n",
    "    minimum_ios_deployment_target='13')"
   ]
  },
  {
   "cell_type": "code",
   "execution_count": null,
   "metadata": {},
   "outputs": [],
   "source": []
  },
  {
   "cell_type": "code",
   "execution_count": null,
   "metadata": {},
   "outputs": [],
   "source": []
  }
 ],
 "metadata": {
  "kernelspec": {
   "display_name": "Python 3",
   "language": "python",
   "name": "python3"
  },
  "language_info": {
   "codemirror_mode": {
    "name": "ipython",
    "version": 3
   },
   "file_extension": ".py",
   "mimetype": "text/x-python",
   "name": "python",
   "nbconvert_exporter": "python",
   "pygments_lexer": "ipython3",
   "version": "3.6.10"
  }
 },
 "nbformat": 4,
 "nbformat_minor": 4
}
